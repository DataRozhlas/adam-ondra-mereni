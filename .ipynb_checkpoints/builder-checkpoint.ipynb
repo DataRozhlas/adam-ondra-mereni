{
 "cells": [
  {
   "cell_type": "code",
   "execution_count": 19,
   "metadata": {},
   "outputs": [],
   "source": [
    "import markdown, re, os, yaml\n",
    "from jsmin import jsmin\n",
    "from csscompressor import compress"
   ]
  },
  {
   "cell_type": "code",
   "execution_count": 20,
   "metadata": {},
   "outputs": [],
   "source": [
    "# read markdown article\n",
    "with open('article.md', encoding='utf-8') as text:\n",
    "    parts = text.read().split('---')\n",
    "    header = parts[0]\n",
    "    main = parts[1]"
   ]
  },
  {
   "cell_type": "code",
   "execution_count": 21,
   "metadata": {},
   "outputs": [],
   "source": [
    "art = yaml.load(header)"
   ]
  },
  {
   "cell_type": "code",
   "execution_count": 22,
   "metadata": {},
   "outputs": [],
   "source": [
    "#read options\n",
    "options = art['options'].split(\", \")\n",
    "print(options)"
   ]
  },
  {
   "cell_type": "code",
   "execution_count": 23,
   "metadata": {},
   "outputs": [],
   "source": [
    "#names of authors\n",
    "tmp = ', '.join(art['authors'])\n",
    "art['authors'] = ' a '.join(tmp.rsplit(', ', 1))"
   ]
  },
  {
   "cell_type": "code",
   "execution_count": 24,
   "metadata": {},
   "outputs": [],
   "source": [
    "# format external JS links\n",
    "tmp = ''\n",
    "for lib in art['libraries']:\n",
    "    tmp += '<script src=\"{0}\"></script>\\n'.format(lib)\n",
    "art['libraries'] = tmp"
   ]
  },
  {
   "cell_type": "code",
   "execution_count": 25,
   "metadata": {},
   "outputs": [],
   "source": [
    "# format external CSS links \n",
    "tmp = ''\n",
    "for style in art['styles']:\n",
    "    tmp += '<link rel=\"stylesheet\" type=\"text/css\" href=\"{0}\">\\n'.format(style)\n",
    "art['styles'] = tmp"
   ]
  },
  {
   "cell_type": "code",
   "execution_count": 26,
   "metadata": {},
   "outputs": [],
   "source": [
    "#<wide> pseudotag\n",
    "main = main.replace(\"<wide>\",\"</div><div class=\\\"row-main row-main--article\\\">\")\n",
    "main = main.replace(\"</wide>\",\"</div><div class=\\\"row-main row-main--narrow\\\">\")"
   ]
  },
  {
   "cell_type": "code",
   "execution_count": 27,
   "metadata": {},
   "outputs": [],
   "source": [
    "# article content\n",
    "art['content'] = markdown.markdown(main)"
   ]
  },
  {
   "cell_type": "code",
   "execution_count": 28,
   "metadata": {},
   "outputs": [],
   "source": [
    "#read snowfall template\n",
    "if \"noheader\" in options: template_file = './templates/snowfall_noheader.html'\n",
    "else: template_file = './templates/snowfall.html'\n",
    "with open(template_file, encoding='utf-8') as t:\n",
    "    template = t.read()"
   ]
  },
  {
   "cell_type": "code",
   "execution_count": 29,
   "metadata": {},
   "outputs": [],
   "source": [
    "#option: wide\n",
    "if \"wide\" in options: art['column'] = \"<div class=\\\"row-main row-main--article\\\">\"\n",
    "else: art['column'] = \"<div class=\\\"row-main row-main--narrow\\\">\""
   ]
  },
  {
   "cell_type": "code",
   "execution_count": 30,
   "metadata": {},
   "outputs": [],
   "source": [
    "# fill template\n",
    "for variable in re.findall(r\"\\{(\\w+)\\}\", template):\n",
    "    template = template.replace('{' + variable + '}', str(art[variable]))"
   ]
  },
  {
   "cell_type": "code",
   "execution_count": 31,
   "metadata": {},
   "outputs": [],
   "source": [
    "# pack JSscripts\n",
    "temp = ''\n",
    "for script in os.listdir('./js/'):\n",
    "    with open('./js/' + script, encoding='utf-8') as js_file:\n",
    "        jmin = jsmin(js_file.read())\n",
    "        temp += jmin\n",
    "\n",
    "template = template + '<script>' + temp + '</script>\\n' "
   ]
  },
  {
   "cell_type": "code",
   "execution_count": 32,
   "metadata": {},
   "outputs": [],
   "source": [
    "# pack styles\n",
    "temp = ''\n",
    "for style in os.listdir('./styles/'):\n",
    "    with open('./styles/' + style, encoding='utf-8') as css_file:\n",
    "        csmin = compress(css_file.read())\n",
    "        temp += csmin\n",
    "\n",
    "template = '<style>' + temp + '</style>\\n' + template"
   ]
  },
  {
   "cell_type": "code",
   "execution_count": 33,
   "metadata": {},
   "outputs": [],
   "source": [
    "#write template\n",
    "with open('./output.html', 'w', encoding='utf-8') as f:\n",
    "    f.write(template)"
   ]
  },
  {
   "cell_type": "code",
   "execution_count": 34,
   "metadata": {},
   "outputs": [],
   "source": [
    "# write wrapped content into dummy index\n",
    "with open('./templates/wrapper.html', encoding='utf-8') as t:\n",
    "    wrapper = t.read()\n",
    "    \n",
    "wrapper = wrapper.replace('{content}', template)\n",
    "\n",
    "with open('./index.html', 'w', encoding='utf-8') as f:\n",
    "    f.write(wrapper)"
   ]
  }
 ],
 "metadata": {
  "anaconda-cloud": {},
  "kernelspec": {
   "display_name": "Python 3",
   "language": "python",
   "name": "python3"
  },
  "language_info": {
   "codemirror_mode": {
    "name": "ipython",
    "version": 3
   },
   "file_extension": ".py",
   "mimetype": "text/x-python",
   "name": "python",
   "nbconvert_exporter": "python",
   "pygments_lexer": "ipython3",
   "version": "3.6.3"
  }
 },
 "nbformat": 4,
 "nbformat_minor": 1
}
