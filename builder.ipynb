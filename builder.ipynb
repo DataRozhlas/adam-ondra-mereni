{
 "cells": [
  {
   "cell_type": "code",
   "execution_count": 112,
   "metadata": {
    "collapsed": false,
    "deletable": true,
    "editable": true
   },
   "outputs": [],
   "source": [
    "import markdown, re, os, yaml\n",
    "from jsmin import jsmin\n",
    "from csscompressor import compress"
   ]
  },
  {
   "cell_type": "code",
   "execution_count": 113,
   "metadata": {
    "collapsed": false,
    "deletable": true,
    "editable": true
   },
   "outputs": [],
   "source": [
    "# read markdown article\n",
    "with open('article.md', encoding='utf-8') as text:\n",
    "    parts = text.read().split('---')\n",
    "    header = parts[0]\n",
    "    main = parts[1]"
   ]
  },
  {
   "cell_type": "code",
   "execution_count": 114,
   "metadata": {
    "collapsed": false,
    "deletable": true,
    "editable": true
   },
   "outputs": [],
   "source": [
    "art = yaml.load(header)"
   ]
  },
  {
   "cell_type": "code",
   "execution_count": 115,
   "metadata": {
    "collapsed": false,
    "deletable": true,
    "editable": true
   },
   "outputs": [],
   "source": [
    "#names of authors\n",
    "tmp = ', '.join(art['authors'])\n",
    "art['authors'] = ' a '.join(tmp.rsplit(', ', 1))"
   ]
  },
  {
   "cell_type": "code",
   "execution_count": 116,
   "metadata": {
    "collapsed": false,
    "deletable": true,
    "editable": true
   },
   "outputs": [],
   "source": [
    "# format external JS links\n",
    "tmp = ''\n",
    "for lib in art['libraries']:\n",
    "    tmp += '<script src=\"{0}\"></script>\\n'.format(lib)\n",
    "art['libraries'] = tmp"
   ]
  },
  {
   "cell_type": "code",
   "execution_count": 117,
   "metadata": {
    "collapsed": true,
    "deletable": true,
    "editable": true
   },
   "outputs": [],
   "source": [
    "# format external CSS links \n",
    "tmp = ''\n",
    "for style in art['styles']:\n",
    "    tmp += '<link rel=\"stylesheet\" type=\"text/css\" href=\"{0}\">\\n'.format(style)\n",
    "art['styles'] = tmp"
   ]
  },
  {
   "cell_type": "code",
   "execution_count": 118,
   "metadata": {
    "collapsed": false,
    "deletable": true,
    "editable": true
   },
   "outputs": [],
   "source": [
    "# article content\n",
    "art['content'] = markdown.markdown(main)"
   ]
  },
  {
   "cell_type": "code",
   "execution_count": 119,
   "metadata": {
    "collapsed": true,
    "deletable": true,
    "editable": true
   },
   "outputs": [],
   "source": [
    "#read snowfall template\n",
    "with open('./templates/snowfall.html', encoding='utf-8') as t:\n",
    "    template = t.read()"
   ]
  },
  {
   "cell_type": "code",
   "execution_count": 120,
   "metadata": {
    "collapsed": false
   },
   "outputs": [
    {
     "name": "stdout",
     "output_type": "stream",
     "text": [
      "['']\n"
     ]
    }
   ],
   "source": [
    "#read options\n",
    "options = art['options'].split(\", \")\n",
    "print(options)"
   ]
  },
  {
   "cell_type": "code",
   "execution_count": 121,
   "metadata": {
    "collapsed": false
   },
   "outputs": [],
   "source": [
    "#option: wide\n",
    "if \"wide\" in options: art['column'] = \"<div class=\\\"row-main row-main--article\\\">\"\n",
    "else: art['column'] = \"<div class=\\\"row-main row-main--narrow\\\">\""
   ]
  },
  {
   "cell_type": "code",
   "execution_count": 122,
   "metadata": {
    "collapsed": false,
    "deletable": true,
    "editable": true
   },
   "outputs": [],
   "source": [
    "# fill template\n",
    "for variable in re.findall(r\"\\{(\\w+)\\}\", template):\n",
    "    template = template.replace('{' + variable + '}', str(art[variable]))"
   ]
  },
  {
   "cell_type": "code",
   "execution_count": 123,
   "metadata": {
    "collapsed": false,
    "deletable": true,
    "editable": true
   },
   "outputs": [],
   "source": [
    "# pack JSscripts\n",
    "temp = ''\n",
    "for script in os.listdir('./js/'):\n",
    "    with open('./js/' + script, encoding='utf-8') as js_file:\n",
    "        jmin = jsmin(js_file.read())\n",
    "        temp += jmin\n",
    "\n",
    "template = template + '<script>' + temp + '</script>\\n' "
   ]
  },
  {
   "cell_type": "code",
   "execution_count": 124,
   "metadata": {
    "collapsed": false,
    "deletable": true,
    "editable": true
   },
   "outputs": [],
   "source": [
    "# pack styles\n",
    "temp = ''\n",
    "for style in os.listdir('./styles/'):\n",
    "    with open('./styles/' + style, encoding='utf-8') as css_file:\n",
    "        csmin = compress(css_file.read())\n",
    "        temp += csmin\n",
    "\n",
    "template = '<style>' + temp + '</style>\\n' + template"
   ]
  },
  {
   "cell_type": "code",
   "execution_count": 125,
   "metadata": {
    "collapsed": false,
    "deletable": true,
    "editable": true
   },
   "outputs": [],
   "source": [
    "#write template\n",
    "with open('./output.html', 'w', encoding='utf-8') as f:\n",
    "    f.write(template)"
   ]
  },
  {
   "cell_type": "code",
   "execution_count": 126,
   "metadata": {
    "collapsed": true,
    "deletable": true,
    "editable": true
   },
   "outputs": [],
   "source": [
    "# write wrapped content into dummy index\n",
    "with open('./templates/wrapper.html', encoding='utf-8') as t:\n",
    "    wrapper = t.read()\n",
    "    \n",
    "wrapper = wrapper.replace('{content}', template)\n",
    "\n",
    "with open('./index.html', 'w', encoding='utf-8') as f:\n",
    "    f.write(wrapper)"
   ]
  }
 ],
 "metadata": {
  "anaconda-cloud": {},
  "kernelspec": {
   "display_name": "Python 3",
   "language": "python",
   "name": "python3"
  },
  "language_info": {
   "codemirror_mode": {
    "name": "ipython",
    "version": 3
   },
   "file_extension": ".py",
   "mimetype": "text/x-python",
   "name": "python",
   "nbconvert_exporter": "python",
   "pygments_lexer": "ipython3",
   "version": "3.5.3"
  }
 },
 "nbformat": 4,
 "nbformat_minor": 1
}
