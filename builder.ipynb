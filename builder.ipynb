{
 "cells": [
  {
   "cell_type": "code",
   "execution_count": 14,
   "metadata": {
    "collapsed": false
   },
   "outputs": [],
   "source": [
    "import markdown\n",
    "from jsmin import jsmin\n",
    "import ast\n",
    "import re\n",
    "import os\n",
    "from csscompressor import compress\n",
    "import yaml"
   ]
  },
  {
   "cell_type": "code",
   "execution_count": 15,
   "metadata": {
    "collapsed": false
   },
   "outputs": [],
   "source": [
    "# read markdown article\n",
    "with open('article.md', encoding='utf-8') as text:\n",
    "    parts = text.read().split('---')\n",
    "    header = parts[0]\n",
    "    main = parts[1]"
   ]
  },
  {
   "cell_type": "code",
   "execution_count": 16,
   "metadata": {
    "collapsed": false
   },
   "outputs": [],
   "source": [
    "art = yaml.load(header)"
   ]
  },
  {
   "cell_type": "code",
   "execution_count": 17,
   "metadata": {
    "collapsed": false
   },
   "outputs": [],
   "source": [
    "#names of authors\n",
    "tmp = ', '.join(art['authors'])\n",
    "art['authors'] = ' a '.join(tmp.rsplit(', ', 1))"
   ]
  },
  {
   "cell_type": "code",
   "execution_count": 18,
   "metadata": {
    "collapsed": false
   },
   "outputs": [],
   "source": [
    "# format external JS links\n",
    "tmp = ''\n",
    "for lib in art['libraries']:\n",
    "    tmp += '<script src=\"{0}\"></script>\\n'.format(lib)\n",
    "art['libraries'] = tmp"
   ]
  },
  {
   "cell_type": "code",
   "execution_count": 19,
   "metadata": {
    "collapsed": true
   },
   "outputs": [],
   "source": [
    "# format external CSS links \n",
    "tmp = ''\n",
    "for styl in art['styles']:\n",
    "    tmp += '<link rel=\"stylesheet\" type=\"text/css\" href=\"{0}\">\\n'.format(styl)\n",
    "art['styles'] = tmp"
   ]
  },
  {
   "cell_type": "code",
   "execution_count": 20,
   "metadata": {
    "collapsed": false
   },
   "outputs": [],
   "source": [
    "# article content\n",
    "art['content'] = markdown.markdown(main)"
   ]
  },
  {
   "cell_type": "code",
   "execution_count": 21,
   "metadata": {
    "collapsed": true
   },
   "outputs": [],
   "source": [
    "#read snowfall template\n",
    "with open('./templates/snowfall.html', encoding='utf-8') as t:\n",
    "    template = t.read()"
   ]
  },
  {
   "cell_type": "code",
   "execution_count": 22,
   "metadata": {
    "collapsed": false
   },
   "outputs": [],
   "source": [
    "# fill template\n",
    "for variable in re.findall(r\"\\{(\\w+)\\}\", template):\n",
    "    template = template.replace('{' + variable + '}', str(art[variable]))"
   ]
  },
  {
   "cell_type": "code",
   "execution_count": 23,
   "metadata": {
    "collapsed": false
   },
   "outputs": [],
   "source": [
    "# pack JSscripts\n",
    "temp = ''\n",
    "for script in os.listdir('./js/'):\n",
    "    with open('./js/' + script, encoding='utf-8') as js_file:\n",
    "        jmin = jsmin(js_file.read())\n",
    "        temp += jmin\n",
    "\n",
    "template = template + '<script>' + temp + '</script>\\n' "
   ]
  },
  {
   "cell_type": "code",
   "execution_count": 24,
   "metadata": {
    "collapsed": false
   },
   "outputs": [],
   "source": [
    "# pack styles\n",
    "temp = ''\n",
    "for script in os.listdir('./styles/'):\n",
    "    with open('./styles/' + script, encoding='utf-8') as css_file:\n",
    "        csmin = compress(css_file.read())\n",
    "        temp += csmin\n",
    "\n",
    "template = '<style>' + temp + '</style>\\n' + template"
   ]
  },
  {
   "cell_type": "code",
   "execution_count": 25,
   "metadata": {
    "collapsed": false
   },
   "outputs": [],
   "source": [
    "#write template\n",
    "with open('./article.html', 'w', encoding='utf-8') as f:\n",
    "    f.write(template)"
   ]
  },
  {
   "cell_type": "code",
   "execution_count": 26,
   "metadata": {
    "collapsed": true
   },
   "outputs": [],
   "source": [
    "# write wrapped content into dummy index\n",
    "with open('./templates/wrapper.html', encoding='utf-8') as t:\n",
    "    wrapper = t.read()\n",
    "    \n",
    "wrapper = wrapper.replace('{content}', template)\n",
    "\n",
    "with open('./index.html', 'w', encoding='utf-8') as f:\n",
    "    f.write(wrapper)"
   ]
  }
 ],
 "metadata": {
  "anaconda-cloud": {},
  "kernelspec": {
   "display_name": "Python [conda root]",
   "language": "python",
   "name": "conda-root-py"
  },
  "language_info": {
   "codemirror_mode": {
    "name": "ipython",
    "version": 3
   },
   "file_extension": ".py",
   "mimetype": "text/x-python",
   "name": "python",
   "nbconvert_exporter": "python",
   "pygments_lexer": "ipython3",
   "version": "3.5.2"
  }
 },
 "nbformat": 4,
 "nbformat_minor": 1
}
