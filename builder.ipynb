{
 "cells": [
  {
   "cell_type": "code",
   "execution_count": 1,
   "metadata": {
    "collapsed": false
   },
   "outputs": [],
   "source": [
    "import markdown\n",
    "from jsmin import jsmin\n",
    "import ast\n",
    "import re\n",
    "import os\n",
    "from csscompressor import compress"
   ]
  },
  {
   "cell_type": "code",
   "execution_count": 4,
   "metadata": {
    "collapsed": false
   },
   "outputs": [],
   "source": [
    "# read markdown article\n",
    "with open('article.md', encoding='utf-8') as text:\n",
    "    parts = text.read().split('---')\n",
    "    header = parts[0]\n",
    "    main = parts[1]"
   ]
  },
  {
   "cell_type": "code",
   "execution_count": 31,
   "metadata": {
    "collapsed": false
   },
   "outputs": [
    {
     "data": {
      "text/plain": [
       "{'authors': 'Jan Cibulka a Petr Kočí',\n",
       " 'coverimg': 'https://interaktivni.rozhlas.cz/brexit/media/cover.jpg',\n",
       " 'coverimg_note': \"Foto <a href='#'>ČTK</a>\",\n",
       " 'libraries': '<script src=\"https://unpkg.com/jquery@3.2.1\"></script>\\n',\n",
       " 'perex': 'Praha se denně nafoukne o polovinu, v centru jsou návštěvníci v převaze',\n",
       " 'styles': '',\n",
       " 'title': 'Data z mobilů:'}"
      ]
     },
     "execution_count": 31,
     "metadata": {},
     "output_type": "execute_result"
    }
   ],
   "source": [
    "art"
   ]
  },
  {
   "cell_type": "code",
   "execution_count": 24,
   "metadata": {
    "collapsed": false
   },
   "outputs": [],
   "source": [
    "# article base\n",
    "art = {}\n",
    "for row in header.split('\\n'):\n",
    "    var = row.split(':')[0]\n",
    "    val = ':'.join(row.split(':')[1:]).lstrip()\n",
    "    if len(val) > 0:\n",
    "        if val.startswith('['):\n",
    "            art[var] =  ast.literal_eval(val)\n",
    "        else:\n",
    "            art[var] =  val"
   ]
  },
  {
   "cell_type": "code",
   "execution_count": 26,
   "metadata": {
    "collapsed": false
   },
   "outputs": [],
   "source": [
    "#names of authors\n",
    "tmp = ', '.join(art['authors'])\n",
    "art['authors'] = ' a '.join(tmp.rsplit(', ', 1))"
   ]
  },
  {
   "cell_type": "code",
   "execution_count": 28,
   "metadata": {
    "collapsed": false
   },
   "outputs": [],
   "source": [
    "# format external JS links\n",
    "tmp = ''\n",
    "for lib in art['libraries']:\n",
    "    tmp += '<script src=\"{0}\"></script>\\n'.format(lib)\n",
    "art['libraries'] = tmp"
   ]
  },
  {
   "cell_type": "code",
   "execution_count": 30,
   "metadata": {
    "collapsed": true
   },
   "outputs": [],
   "source": [
    "# format external CSS links \n",
    "tmp = ''\n",
    "for styl in art['styles']:\n",
    "    tmp += '<link rel=\"stylesheet\" type=\"text/css\" href=\"{0}\">\\n'.format(styl)\n",
    "art['styles'] = tmp"
   ]
  },
  {
   "cell_type": "code",
   "execution_count": 32,
   "metadata": {
    "collapsed": false
   },
   "outputs": [],
   "source": [
    "# article content\n",
    "art['content'] = markdown.markdown(main)"
   ]
  },
  {
   "cell_type": "code",
   "execution_count": 33,
   "metadata": {
    "collapsed": true
   },
   "outputs": [],
   "source": [
    "#read snowfall template\n",
    "with open('./templates/snowfall.html', encoding='utf-8') as t:\n",
    "    template = t.read()"
   ]
  },
  {
   "cell_type": "code",
   "execution_count": 34,
   "metadata": {
    "collapsed": false
   },
   "outputs": [],
   "source": [
    "# fill template\n",
    "for variable in re.findall(r\"\\{(\\w+)\\}\", template):\n",
    "    template = template.replace('{' + variable + '}', str(art[variable]))"
   ]
  },
  {
   "cell_type": "code",
   "execution_count": 35,
   "metadata": {
    "collapsed": false
   },
   "outputs": [],
   "source": [
    "# pack JSscripts\n",
    "temp = ''\n",
    "for script in os.listdir('./js/'):\n",
    "    with open('./js/' + script, encoding='utf-8') as js_file:\n",
    "        jmin = jsmin(js_file.read())\n",
    "        temp += jmin\n",
    "\n",
    "template = template + '<script>' + temp + '</script>\\n' "
   ]
  },
  {
   "cell_type": "code",
   "execution_count": 36,
   "metadata": {
    "collapsed": false
   },
   "outputs": [],
   "source": [
    "# pack styles\n",
    "temp = ''\n",
    "for script in os.listdir('./styles/'):\n",
    "    with open('./styles/' + script, encoding='utf-8') as css_file:\n",
    "        csmin = compress(css_file.read())\n",
    "        temp += csmin\n",
    "\n",
    "template = '<style>' + temp + '</style>\\n' + template"
   ]
  },
  {
   "cell_type": "code",
   "execution_count": 37,
   "metadata": {
    "collapsed": false
   },
   "outputs": [],
   "source": [
    "#write template\n",
    "with open('./article.html', 'w', encoding='utf-8') as f:\n",
    "    f.write(template)"
   ]
  }
 ],
 "metadata": {
  "anaconda-cloud": {},
  "kernelspec": {
   "display_name": "Python [conda root]",
   "language": "python",
   "name": "conda-root-py"
  },
  "language_info": {
   "codemirror_mode": {
    "name": "ipython",
    "version": 3
   },
   "file_extension": ".py",
   "mimetype": "text/x-python",
   "name": "python",
   "nbconvert_exporter": "python",
   "pygments_lexer": "ipython3",
   "version": "3.5.2"
  }
 },
 "nbformat": 4,
 "nbformat_minor": 1
}
